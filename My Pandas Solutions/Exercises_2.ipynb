{
  "nbformat": 4,
  "nbformat_minor": 0,
  "metadata": {
    "kernelspec": {
      "display_name": "Python 3",
      "name": "python3",
      "language": "python"
    },
    "language_info": {
      "mimetype": "text/x-python",
      "nbconvert_exporter": "python",
      "name": "python",
      "file_extension": ".py",
      "version": "3.4.3",
      "pygments_lexer": "ipython3",
      "codemirror_mode": {
        "version": 3,
        "name": "ipython"
      }
    },
    "colab": {
      "name": "Exercises-2.ipynb",
      "provenance": []
    }
  },
  "cells": [
    {
      "cell_type": "code",
      "metadata": {
        "id": "G2mwOQ7RGBkD"
      },
      "source": [
        "%matplotlib inline\n",
        "import pandas as pd"
      ],
      "execution_count": 3,
      "outputs": []
    },
    {
      "cell_type": "code",
      "metadata": {
        "id": "MlGZZ6WgGBks",
        "outputId": "ad0b9176-6ebc-4a8a-d64e-bd1d02fe5d56"
      },
      "source": [
        "# from IPython.core.display import HTML\n",
        "# css = open('style-table.css').read() + open('style-notebook.css').read()\n",
        "# HTML('<style>{}</style>'.format(css))"
      ],
      "execution_count": null,
      "outputs": [
        {
          "output_type": "execute_result",
          "data": {
            "text/plain": [
              "<IPython.core.display.HTML object>"
            ],
            "text/html": [
              "<style>body {\n",
              "    margin: 0;\n",
              "    font-family: Helvetica;\n",
              "}\n",
              "table.dataframe {\n",
              "    border-collapse: collapse;\n",
              "    border: none;\n",
              "}\n",
              "table.dataframe tr {\n",
              "    border: none;\n",
              "}\n",
              "table.dataframe td, table.dataframe th {\n",
              "    margin: 0;\n",
              "    border: 1px solid white;\n",
              "    padding-left: 0.25em;\n",
              "    padding-right: 0.25em;\n",
              "}\n",
              "table.dataframe th:not(:empty) {\n",
              "    background-color: #fec;\n",
              "    text-align: left;\n",
              "    font-weight: normal;\n",
              "}\n",
              "table.dataframe tr:nth-child(2) th:empty {\n",
              "    border-left: none;\n",
              "    border-right: 1px dashed #888;\n",
              "}\n",
              "table.dataframe td {\n",
              "    border: 2px solid #ccf;\n",
              "    background-color: #f4f4ff;\n",
              "}\n",
              "h3 {\n",
              "    color: white;\n",
              "    background-color: black;\n",
              "    padding: 0.5em;\n",
              "}\n",
              "</style>"
            ]
          },
          "metadata": {
            "tags": []
          },
          "execution_count": 2
        }
      ]
    },
    {
      "cell_type": "code",
      "metadata": {
        "colab": {
          "base_uri": "https://localhost:8080/",
          "height": 204
        },
        "id": "OJXTwFuKGBk0",
        "outputId": "ce997e76-64d4-47c4-ebfb-7f7e46f4f080"
      },
      "source": [
        "titles = pd.read_csv('data/titles.csv')\n",
        "titles.head()"
      ],
      "execution_count": 6,
      "outputs": [
        {
          "output_type": "execute_result",
          "data": {
            "text/html": [
              "<div>\n",
              "<style scoped>\n",
              "    .dataframe tbody tr th:only-of-type {\n",
              "        vertical-align: middle;\n",
              "    }\n",
              "\n",
              "    .dataframe tbody tr th {\n",
              "        vertical-align: top;\n",
              "    }\n",
              "\n",
              "    .dataframe thead th {\n",
              "        text-align: right;\n",
              "    }\n",
              "</style>\n",
              "<table border=\"1\" class=\"dataframe\">\n",
              "  <thead>\n",
              "    <tr style=\"text-align: right;\">\n",
              "      <th></th>\n",
              "      <th>title</th>\n",
              "      <th>year</th>\n",
              "    </tr>\n",
              "  </thead>\n",
              "  <tbody>\n",
              "    <tr>\n",
              "      <th>0</th>\n",
              "      <td>The Rising Son</td>\n",
              "      <td>1990</td>\n",
              "    </tr>\n",
              "    <tr>\n",
              "      <th>1</th>\n",
              "      <td>Justin Bieber: Always Believing</td>\n",
              "      <td>2012</td>\n",
              "    </tr>\n",
              "    <tr>\n",
              "      <th>2</th>\n",
              "      <td>The Thousand Plane Raid</td>\n",
              "      <td>1969</td>\n",
              "    </tr>\n",
              "    <tr>\n",
              "      <th>3</th>\n",
              "      <td>Crucea de piatra</td>\n",
              "      <td>1993</td>\n",
              "    </tr>\n",
              "    <tr>\n",
              "      <th>4</th>\n",
              "      <td>The 86</td>\n",
              "      <td>2015</td>\n",
              "    </tr>\n",
              "  </tbody>\n",
              "</table>\n",
              "</div>"
            ],
            "text/plain": [
              "                             title  year\n",
              "0                   The Rising Son  1990\n",
              "1  Justin Bieber: Always Believing  2012\n",
              "2          The Thousand Plane Raid  1969\n",
              "3                 Crucea de piatra  1993\n",
              "4                           The 86  2015"
            ]
          },
          "metadata": {
            "tags": []
          },
          "execution_count": 6
        }
      ]
    },
    {
      "cell_type": "code",
      "metadata": {
        "colab": {
          "base_uri": "https://localhost:8080/",
          "height": 204
        },
        "id": "4XB201L4GBk2",
        "outputId": "286d8bb5-eb2b-459d-829e-c9a56e2938fc"
      },
      "source": [
        "cast = pd.read_csv('data/cast.csv')\n",
        "cast.head()"
      ],
      "execution_count": 7,
      "outputs": [
        {
          "output_type": "execute_result",
          "data": {
            "text/html": [
              "<div>\n",
              "<style scoped>\n",
              "    .dataframe tbody tr th:only-of-type {\n",
              "        vertical-align: middle;\n",
              "    }\n",
              "\n",
              "    .dataframe tbody tr th {\n",
              "        vertical-align: top;\n",
              "    }\n",
              "\n",
              "    .dataframe thead th {\n",
              "        text-align: right;\n",
              "    }\n",
              "</style>\n",
              "<table border=\"1\" class=\"dataframe\">\n",
              "  <thead>\n",
              "    <tr style=\"text-align: right;\">\n",
              "      <th></th>\n",
              "      <th>title</th>\n",
              "      <th>year</th>\n",
              "      <th>name</th>\n",
              "      <th>type</th>\n",
              "      <th>character</th>\n",
              "      <th>n</th>\n",
              "    </tr>\n",
              "  </thead>\n",
              "  <tbody>\n",
              "    <tr>\n",
              "      <th>0</th>\n",
              "      <td>Suuri illusioni</td>\n",
              "      <td>1985</td>\n",
              "      <td>Homo $</td>\n",
              "      <td>actor</td>\n",
              "      <td>Guests</td>\n",
              "      <td>22.0</td>\n",
              "    </tr>\n",
              "    <tr>\n",
              "      <th>1</th>\n",
              "      <td>Gangsta Rap: The Glockumentary</td>\n",
              "      <td>2007</td>\n",
              "      <td>Too $hort</td>\n",
              "      <td>actor</td>\n",
              "      <td>Himself</td>\n",
              "      <td>NaN</td>\n",
              "    </tr>\n",
              "    <tr>\n",
              "      <th>2</th>\n",
              "      <td>Menace II Society</td>\n",
              "      <td>1993</td>\n",
              "      <td>Too $hort</td>\n",
              "      <td>actor</td>\n",
              "      <td>Lew-Loc</td>\n",
              "      <td>27.0</td>\n",
              "    </tr>\n",
              "    <tr>\n",
              "      <th>3</th>\n",
              "      <td>Porndogs: The Adventures of Sadie</td>\n",
              "      <td>2009</td>\n",
              "      <td>Too $hort</td>\n",
              "      <td>actor</td>\n",
              "      <td>Bosco</td>\n",
              "      <td>3.0</td>\n",
              "    </tr>\n",
              "    <tr>\n",
              "      <th>4</th>\n",
              "      <td>Stop Pepper Palmer</td>\n",
              "      <td>2014</td>\n",
              "      <td>Too $hort</td>\n",
              "      <td>actor</td>\n",
              "      <td>Himself</td>\n",
              "      <td>NaN</td>\n",
              "    </tr>\n",
              "  </tbody>\n",
              "</table>\n",
              "</div>"
            ],
            "text/plain": [
              "                               title  year       name   type character     n\n",
              "0                    Suuri illusioni  1985     Homo $  actor    Guests  22.0\n",
              "1     Gangsta Rap: The Glockumentary  2007  Too $hort  actor   Himself   NaN\n",
              "2                  Menace II Society  1993  Too $hort  actor   Lew-Loc  27.0\n",
              "3  Porndogs: The Adventures of Sadie  2009  Too $hort  actor     Bosco   3.0\n",
              "4                 Stop Pepper Palmer  2014  Too $hort  actor   Himself   NaN"
            ]
          },
          "metadata": {
            "tags": []
          },
          "execution_count": 7
        }
      ]
    },
    {
      "cell_type": "markdown",
      "metadata": {
        "collapsed": true,
        "id": "ADBeUCkFGBk4"
      },
      "source": [
        "### What are the ten most common movie names of all time?"
      ]
    },
    {
      "cell_type": "code",
      "metadata": {
        "collapsed": true,
        "colab": {
          "base_uri": "https://localhost:8080/"
        },
        "id": "1BMlVQX2GBk6",
        "outputId": "8ceda773-c5e5-4b88-8685-fd00ac45a9b3"
      },
      "source": [
        "titles.title.value_counts().head(10)"
      ],
      "execution_count": 8,
      "outputs": [
        {
          "output_type": "execute_result",
          "data": {
            "text/plain": [
              "Hamlet                  19\n",
              "Carmen                  13\n",
              "The Three Musketeers    12\n",
              "Macbeth                 12\n",
              "Maya                    11\n",
              "Blood Money             11\n",
              "The Outsider            11\n",
              "She                     11\n",
              "Temptation              10\n",
              "Love                    10\n",
              "Name: title, dtype: int64"
            ]
          },
          "metadata": {
            "tags": []
          },
          "execution_count": 8
        }
      ]
    },
    {
      "cell_type": "code",
      "metadata": {
        "collapsed": true,
        "id": "2solBvlJGBk8"
      },
      "source": [
        ""
      ],
      "execution_count": null,
      "outputs": []
    },
    {
      "cell_type": "markdown",
      "metadata": {
        "collapsed": true,
        "id": "hAS4y5sDGBk9"
      },
      "source": [
        "### Which three years of the 1930s saw the most films released?"
      ]
    },
    {
      "cell_type": "code",
      "metadata": {
        "collapsed": true,
        "colab": {
          "base_uri": "https://localhost:8080/"
        },
        "id": "_F106Qn6GBk-",
        "outputId": "3c7c242e-4364-4127-d14d-fc3af709e93d"
      },
      "source": [
        "titles[(titles.year >= 1930) & (titles.year <= 1939)].year.value_counts().head(3)"
      ],
      "execution_count": 9,
      "outputs": [
        {
          "output_type": "execute_result",
          "data": {
            "text/plain": [
              "1937    1180\n",
              "1936    1117\n",
              "1938    1115\n",
              "Name: year, dtype: int64"
            ]
          },
          "metadata": {
            "tags": []
          },
          "execution_count": 9
        }
      ]
    },
    {
      "cell_type": "code",
      "metadata": {
        "collapsed": true,
        "id": "oM4QqcLhGBk_"
      },
      "source": [
        ""
      ],
      "execution_count": null,
      "outputs": []
    },
    {
      "cell_type": "markdown",
      "metadata": {
        "collapsed": true,
        "id": "jFFrMM0KGBlA"
      },
      "source": [
        "### Plot the number of films that have been released each decade over the history of cinema."
      ]
    },
    {
      "cell_type": "code",
      "metadata": {
        "collapsed": true,
        "colab": {
          "base_uri": "https://localhost:8080/",
          "height": 281
        },
        "id": "ydsGOynIGBlB",
        "outputId": "1a085e1e-9572-42d9-fc04-561c36822cfc"
      },
      "source": [
        "((titles.year // 10) * 10).value_counts().sort_index().plot(kind = 'bar');"
      ],
      "execution_count": 12,
      "outputs": [
        {
          "output_type": "display_data",
          "data": {
            "image/png": "[encoded data removed]",
            "text/plain": [
              "<Figure size 432x288 with 1 Axes>"
            ]
          },
          "metadata": {
            "tags": [],
            "needs_background": "light"
          }
        }
      ]
    },
    {
      "cell_type": "code",
      "metadata": {
        "collapsed": true,
        "id": "SdiF3fPGGBlE"
      },
      "source": [
        ""
      ],
      "execution_count": null,
      "outputs": []
    },
    {
      "cell_type": "markdown",
      "metadata": {
        "collapsed": true,
        "id": "oVXPVUTHGBlG"
      },
      "source": [
        "### Plot the number of \"Hamlet\" films made each decade."
      ]
    },
    {
      "cell_type": "code",
      "metadata": {
        "collapsed": true,
        "colab": {
          "base_uri": "https://localhost:8080/",
          "height": 298
        },
        "id": "PTWl4NWLGBlH",
        "outputId": "837c124d-042f-4c26-d787-329a53aa4255"
      },
      "source": [
        "t = titles\r\n",
        "t = t[t.title == 'Hamlet']\r\n",
        "((t.year// 10 ) * 10).value_counts().sort_index().plot(kind = 'bar')"
      ],
      "execution_count": 15,
      "outputs": [
        {
          "output_type": "execute_result",
          "data": {
            "text/plain": [
              "<matplotlib.axes._subplots.AxesSubplot at 0x7f346d199940>"
            ]
          },
          "metadata": {
            "tags": []
          },
          "execution_count": 15
        },
        {
          "output_type": "display_data",
          "data": {
            "image/png": "[encoded data removed]",
            "text/plain": [
              "<Figure size 432x288 with 1 Axes>"
            ]
          },
          "metadata": {
            "tags": [],
            "needs_background": "light"
          }
        }
      ]
    },
    {
      "cell_type": "code",
      "metadata": {
        "collapsed": true,
        "id": "g3B8w7tlGBlH"
      },
      "source": [
        ""
      ],
      "execution_count": null,
      "outputs": []
    },
    {
      "cell_type": "markdown",
      "metadata": {
        "collapsed": true,
        "id": "CDaR7cFQGBlI"
      },
      "source": [
        "### Plot the number of \"Rustler\" characters in each decade of the history of film."
      ]
    },
    {
      "cell_type": "code",
      "metadata": {
        "collapsed": true,
        "colab": {
          "base_uri": "https://localhost:8080/",
          "height": 298
        },
        "id": "RcVXCrxzGBlJ",
        "outputId": "d9317a84-a94f-4532-c7af-d8d1b2d487d0"
      },
      "source": [
        "c = cast\r\n",
        "c = c[c.character == 'Rustler']\r\n",
        "((c.year //10) *10).value_counts().sort_index().plot(kind = 'bar')"
      ],
      "execution_count": 16,
      "outputs": [
        {
          "output_type": "execute_result",
          "data": {
            "text/plain": [
              "<matplotlib.axes._subplots.AxesSubplot at 0x7f346d122048>"
            ]
          },
          "metadata": {
            "tags": []
          },
          "execution_count": 16
        },
        {
          "output_type": "display_data",
          "data": {
            "image/png": "[encoded data removed]",
            "text/plain": [
              "<Figure size 432x288 with 1 Axes>"
            ]
          },
          "metadata": {
            "tags": [],
            "needs_background": "light"
          }
        }
      ]
    },
    {
      "cell_type": "code",
      "metadata": {
        "collapsed": true,
        "id": "34eDL8YvGBlK"
      },
      "source": [
        ""
      ],
      "execution_count": null,
      "outputs": []
    },
    {
      "cell_type": "markdown",
      "metadata": {
        "collapsed": true,
        "id": "eamHZHskGBlL"
      },
      "source": [
        "### Plot the number of \"Hamlet\" characters each decade."
      ]
    },
    {
      "cell_type": "code",
      "metadata": {
        "collapsed": true,
        "colab": {
          "base_uri": "https://localhost:8080/",
          "height": 298
        },
        "id": "H6cm0-BwGBlL",
        "outputId": "4ba8dad4-3632-4168-bf76-38abe1b743da"
      },
      "source": [
        "c = cast\r\n",
        "c = c[c.character == 'Hamlet']\r\n",
        "((c.year //10) *10).value_counts().sort_index().plot(kind = 'bar')"
      ],
      "execution_count": 17,
      "outputs": [
        {
          "output_type": "execute_result",
          "data": {
            "text/plain": [
              "<matplotlib.axes._subplots.AxesSubplot at 0x7f346d09f048>"
            ]
          },
          "metadata": {
            "tags": []
          },
          "execution_count": 17
        },
        {
          "output_type": "display_data",
          "data": {
            "image/png": "[encoded data removed]",
            "text/plain": [
              "<Figure size 432x288 with 1 Axes>"
            ]
          },
          "metadata": {
            "tags": [],
            "needs_background": "light"
          }
        }
      ]
    },
    {
      "cell_type": "code",
      "metadata": {
        "collapsed": true,
        "id": "TphOJ55AGBlM"
      },
      "source": [
        ""
      ],
      "execution_count": null,
      "outputs": []
    },
    {
      "cell_type": "markdown",
      "metadata": {
        "collapsed": true,
        "id": "MHQ5n2THGBlN"
      },
      "source": [
        "### What are the 11 most common character names in movie history?"
      ]
    },
    {
      "cell_type": "code",
      "metadata": {
        "collapsed": true,
        "colab": {
          "base_uri": "https://localhost:8080/"
        },
        "id": "HJjd0e5fGBlP",
        "outputId": "2e519350-7c5f-4fc2-a034-97a40363dc8c"
      },
      "source": [
        "cast.character.value_counts().head(11)"
      ],
      "execution_count": 18,
      "outputs": [
        {
          "output_type": "execute_result",
          "data": {
            "text/plain": [
              "Himself        18739\n",
              "Dancer         10895\n",
              "Extra           8576\n",
              "Reporter        7515\n",
              "Doctor          6675\n",
              "Policeman       6420\n",
              "Student         6210\n",
              "Nurse           6059\n",
              "Bartender       6027\n",
              "Party Guest     5664\n",
              "Minor Role      5661\n",
              "Name: character, dtype: int64"
            ]
          },
          "metadata": {
            "tags": []
          },
          "execution_count": 18
        }
      ]
    },
    {
      "cell_type": "code",
      "metadata": {
        "collapsed": true,
        "id": "sZF3IfXYGBlS"
      },
      "source": [
        ""
      ],
      "execution_count": null,
      "outputs": []
    },
    {
      "cell_type": "markdown",
      "metadata": {
        "collapsed": true,
        "id": "WrfwClzDGBlV"
      },
      "source": [
        "### Who are the 10 people most often credited as \"Herself\" in film history?"
      ]
    },
    {
      "cell_type": "code",
      "metadata": {
        "collapsed": true,
        "colab": {
          "base_uri": "https://localhost:8080/"
        },
        "id": "ES1Yl2qAGBlW",
        "outputId": "c5539d71-81fb-4f88-8a79-bf2358517afe"
      },
      "source": [
        "cast[cast.character == 'Herself'].name.value_counts().head(10)"
      ],
      "execution_count": 19,
      "outputs": [
        {
          "output_type": "execute_result",
          "data": {
            "text/plain": [
              "Joyce Brothers         14\n",
              "Queen Elizabeth II     11\n",
              "Margaret Thatcher       8\n",
              "Joan Rivers             7\n",
              "Mary Jo Pehl            7\n",
              "Chris Evert             5\n",
              "Sally Jessy Raphael     5\n",
              "Kareena Kapoor          5\n",
              "Caroline Rhea           5\n",
              "Whoopi Goldberg         5\n",
              "Name: name, dtype: int64"
            ]
          },
          "metadata": {
            "tags": []
          },
          "execution_count": 19
        }
      ]
    },
    {
      "cell_type": "code",
      "metadata": {
        "collapsed": true,
        "id": "b3HtAF4JGBlX"
      },
      "source": [
        ""
      ],
      "execution_count": null,
      "outputs": []
    },
    {
      "cell_type": "markdown",
      "metadata": {
        "collapsed": true,
        "id": "PcLIywzeGBlX"
      },
      "source": [
        "### Who are the 10 people most often credited as \"Himself\" in film history?"
      ]
    },
    {
      "cell_type": "code",
      "metadata": {
        "collapsed": true,
        "colab": {
          "base_uri": "https://localhost:8080/"
        },
        "id": "6HcaTTuEGBlY",
        "outputId": "e096387b-a0fb-424b-f254-823ba7534aa1"
      },
      "source": [
        "cast[cast.character == 'Himself'].name.value_counts().head(10)"
      ],
      "execution_count": 20,
      "outputs": [
        {
          "output_type": "execute_result",
          "data": {
            "text/plain": [
              "Adolf Hitler             91\n",
              "Richard Nixon            38\n",
              "Ronald Reagan            28\n",
              "John F. Kennedy          26\n",
              "Ron Jeremy               22\n",
              "Winston Churchill        21\n",
              "Franklin D. Roosevelt    20\n",
              "George W. Bush           20\n",
              "Bill Clinton             20\n",
              "Martin Luther King       19\n",
              "Name: name, dtype: int64"
            ]
          },
          "metadata": {
            "tags": []
          },
          "execution_count": 20
        }
      ]
    },
    {
      "cell_type": "code",
      "metadata": {
        "collapsed": true,
        "id": "peQUdScOGBlZ"
      },
      "source": [
        ""
      ],
      "execution_count": null,
      "outputs": []
    },
    {
      "cell_type": "markdown",
      "metadata": {
        "collapsed": true,
        "id": "DXHsO1iBGBlZ"
      },
      "source": [
        "### Which actors or actresses appeared in the most movies in the year 1945?"
      ]
    },
    {
      "cell_type": "code",
      "metadata": {
        "collapsed": true,
        "colab": {
          "base_uri": "https://localhost:8080/"
        },
        "id": "_GQg7A98GBlb",
        "outputId": "6a925f02-8904-4c6e-cc89-a9194a675b88"
      },
      "source": [
        "cast[cast.year == 1945].name.value_counts().head(10)"
      ],
      "execution_count": 21,
      "outputs": [
        {
          "output_type": "execute_result",
          "data": {
            "text/plain": [
              "Emmett Vogan        39\n",
              "Sam (II) Harris     30\n",
              "Harold Miller       28\n",
              "Bess Flowers        28\n",
              "Nolan Leary         27\n",
              "Frank O'Connor      26\n",
              "Franklyn Farnum     24\n",
              "Pierre Watkin       24\n",
              "Charles Sullivan    24\n",
              "Tom London          24\n",
              "Name: name, dtype: int64"
            ]
          },
          "metadata": {
            "tags": []
          },
          "execution_count": 21
        }
      ]
    },
    {
      "cell_type": "code",
      "metadata": {
        "collapsed": true,
        "id": "jy0n_cc4GBld"
      },
      "source": [
        ""
      ],
      "execution_count": null,
      "outputs": []
    },
    {
      "cell_type": "markdown",
      "metadata": {
        "collapsed": true,
        "id": "YvAUYQszGBld"
      },
      "source": [
        "### Which actors or actresses appeared in the most movies in the year 1985?"
      ]
    },
    {
      "cell_type": "code",
      "metadata": {
        "collapsed": true,
        "colab": {
          "base_uri": "https://localhost:8080/"
        },
        "id": "bvc3PiSkGBlg",
        "outputId": "91285ec3-f07d-47ac-9f9b-412ee023ecca"
      },
      "source": [
        "cast[cast.year == 1985].name.value_counts().head(10)"
      ],
      "execution_count": 22,
      "outputs": [
        {
          "output_type": "execute_result",
          "data": {
            "text/plain": [
              "Shakti Kapoor     19\n",
              "Mammootty         17\n",
              "Sukumari          16\n",
              "Lou Scheimer      15\n",
              "Aruna Irani       14\n",
              "Rajesh Khanna     13\n",
              "Raj Babbar        13\n",
              "Deven Verma       13\n",
              "Mohanlal          13\n",
              "Pinchoo Kapoor    12\n",
              "Name: name, dtype: int64"
            ]
          },
          "metadata": {
            "tags": []
          },
          "execution_count": 22
        }
      ]
    },
    {
      "cell_type": "code",
      "metadata": {
        "collapsed": true,
        "id": "vhROMdPxGBlh"
      },
      "source": [
        ""
      ],
      "execution_count": null,
      "outputs": []
    },
    {
      "cell_type": "markdown",
      "metadata": {
        "collapsed": true,
        "id": "3jbd0buOGBli"
      },
      "source": [
        "### Plot how many roles Mammootty has played in each year of his career."
      ]
    },
    {
      "cell_type": "code",
      "metadata": {
        "collapsed": true,
        "colab": {
          "base_uri": "https://localhost:8080/",
          "height": 298
        },
        "id": "V2JjUxrwGBlj",
        "outputId": "a98b1f91-69f6-41ba-f4ef-dfaf8769c135"
      },
      "source": [
        "c = cast\r\n",
        "c = c[c.name == 'Mammootty']\r\n",
        "c.year.value_counts().sort_index().plot(kind = 'bar')"
      ],
      "execution_count": 25,
      "outputs": [
        {
          "output_type": "execute_result",
          "data": {
            "text/plain": [
              "<matplotlib.axes._subplots.AxesSubplot at 0x7f346d2e1a58>"
            ]
          },
          "metadata": {
            "tags": []
          },
          "execution_count": 25
        },
        {
          "output_type": "display_data",
          "data": {
            "image/png": "[encoded data removed]",
            "text/plain": [
              "<Figure size 432x288 with 1 Axes>"
            ]
          },
          "metadata": {
            "tags": [],
            "needs_background": "light"
          }
        }
      ]
    },
    {
      "cell_type": "code",
      "metadata": {
        "collapsed": true,
        "id": "eXr48sw-GBlm"
      },
      "source": [
        ""
      ],
      "execution_count": null,
      "outputs": []
    },
    {
      "cell_type": "markdown",
      "metadata": {
        "collapsed": true,
        "id": "eG2ypG1WGBln"
      },
      "source": [
        "### What are the 10 most frequent roles that start with the phrase \"Patron in\"?"
      ]
    },
    {
      "cell_type": "code",
      "metadata": {
        "collapsed": true,
        "colab": {
          "base_uri": "https://localhost:8080/"
        },
        "id": "aFZd9WnUGBlo",
        "outputId": "24c06fe8-3526-4849-e113-6a913c9d1a7f"
      },
      "source": [
        "cast[cast.character.str.startswith('Patron in')].character.value_counts().head(10)"
      ],
      "execution_count": 27,
      "outputs": [
        {
          "output_type": "execute_result",
          "data": {
            "text/plain": [
              "Patron in Frisky Rabbit         16\n",
              "Patron in the Coffee House       9\n",
              "Patron in Chinese Restaurant     9\n",
              "Patron in Billiard Parlor        5\n",
              "Patron in Bar                    4\n",
              "Patron in restaurant             3\n",
              "Patron in cabaret                3\n",
              "Patron in Restaurant             3\n",
              "Patron in Club                   3\n",
              "Patron in booth                  2\n",
              "Name: character, dtype: int64"
            ]
          },
          "metadata": {
            "tags": []
          },
          "execution_count": 27
        }
      ]
    },
    {
      "cell_type": "code",
      "metadata": {
        "collapsed": true,
        "id": "bOiYRzeMGBlo"
      },
      "source": [
        ""
      ],
      "execution_count": null,
      "outputs": []
    },
    {
      "cell_type": "markdown",
      "metadata": {
        "collapsed": true,
        "id": "6QM65jnSGBlp"
      },
      "source": [
        "### What are the 10 most frequent roles that start with the word \"Science\"?"
      ]
    },
    {
      "cell_type": "code",
      "metadata": {
        "collapsed": true,
        "colab": {
          "base_uri": "https://localhost:8080/"
        },
        "id": "UUcNd0LPGBlq",
        "outputId": "ff331ac7-1fbb-4e1c-fc1a-4f3dc5083d0f"
      },
      "source": [
        "cast[cast.character.str.startswith('Science')].character.value_counts().head(10)"
      ],
      "execution_count": 28,
      "outputs": [
        {
          "output_type": "execute_result",
          "data": {
            "text/plain": [
              "Science Teacher         53\n",
              "Science Fair Student     8\n",
              "Science Student          8\n",
              "Science Fair Judge       6\n",
              "Science Club Member      5\n",
              "Science Reporter         5\n",
              "Science Promo Cadet      4\n",
              "Science Kid              4\n",
              "Science Fair Kid         3\n",
              "Science Officer          3\n",
              "Name: character, dtype: int64"
            ]
          },
          "metadata": {
            "tags": []
          },
          "execution_count": 28
        }
      ]
    },
    {
      "cell_type": "code",
      "metadata": {
        "collapsed": true,
        "id": "cFStCzDkGBlq"
      },
      "source": [
        ""
      ],
      "execution_count": null,
      "outputs": []
    },
    {
      "cell_type": "markdown",
      "metadata": {
        "collapsed": true,
        "id": "IsUHwz1XGBlr"
      },
      "source": [
        "### Plot the n-values of the roles that Judi Dench has played over her career."
      ]
    },
    {
      "cell_type": "code",
      "metadata": {
        "collapsed": true,
        "colab": {
          "base_uri": "https://localhost:8080/",
          "height": 296
        },
        "id": "l_HuByphGBls",
        "outputId": "0d5f6690-9c3f-4aed-bda9-7f99a8127ab2"
      },
      "source": [
        "cast[(cast.name == 'Judi Dench') & (cast.n.notnull())].sort_values('year').plot(x = 'year', y = 'n', kind = 'scatter')"
      ],
      "execution_count": 30,
      "outputs": [
        {
          "output_type": "execute_result",
          "data": {
            "text/plain": [
              "<matplotlib.axes._subplots.AxesSubplot at 0x7f346cfa0f98>"
            ]
          },
          "metadata": {
            "tags": []
          },
          "execution_count": 30
        },
        {
          "output_type": "display_data",
          "data": {
            "image/png": "[encoded data removed]",
            "text/plain": [
              "<Figure size 432x288 with 1 Axes>"
            ]
          },
          "metadata": {
            "tags": [],
            "needs_background": "light"
          }
        }
      ]
    },
    {
      "cell_type": "code",
      "metadata": {
        "collapsed": true,
        "id": "x0wUfuDxGBlt"
      },
      "source": [
        ""
      ],
      "execution_count": null,
      "outputs": []
    },
    {
      "cell_type": "markdown",
      "metadata": {
        "collapsed": true,
        "id": "JlIjAeZwGBlt"
      },
      "source": [
        "### Plot the n-values of Cary Grant's roles through his career."
      ]
    },
    {
      "cell_type": "code",
      "metadata": {
        "collapsed": true,
        "colab": {
          "base_uri": "https://localhost:8080/",
          "height": 296
        },
        "id": "P8PL0kEQGBlu",
        "outputId": "20078797-8756-4a10-8926-259407478d2e"
      },
      "source": [
        "cast[(cast.name == 'Cary Grant') & (cast.n.notnull())].sort_values('year').plot(x = 'year', y = 'n', kind = 'scatter')"
      ],
      "execution_count": 31,
      "outputs": [
        {
          "output_type": "execute_result",
          "data": {
            "text/plain": [
              "<matplotlib.axes._subplots.AxesSubplot at 0x7f346d015160>"
            ]
          },
          "metadata": {
            "tags": []
          },
          "execution_count": 31
        },
        {
          "output_type": "display_data",
          "data": {
            "image/png": "[encoded data removed]",
            "text/plain": [
              "<Figure size 432x288 with 1 Axes>"
            ]
          },
          "metadata": {
            "tags": [],
            "needs_background": "light"
          }
        }
      ]
    },
    {
      "cell_type": "code",
      "metadata": {
        "collapsed": true,
        "id": "3I7-tFW_GBlv"
      },
      "source": [
        ""
      ],
      "execution_count": null,
      "outputs": []
    },
    {
      "cell_type": "markdown",
      "metadata": {
        "collapsed": true,
        "id": "qwV7twfzGBlv"
      },
      "source": [
        "### Plot the n-value of the roles that Sidney Poitier has acted over the years."
      ]
    },
    {
      "cell_type": "code",
      "metadata": {
        "collapsed": true,
        "colab": {
          "base_uri": "https://localhost:8080/",
          "height": 296
        },
        "id": "C3Ry1dw3GBlw",
        "outputId": "1bc516aa-a920-49ae-de0d-094419f395cb"
      },
      "source": [
        "cast[(cast.name == 'Sidney Poitier') & (cast.n.notnull())].sort_values('year').plot(x = 'year', y = 'n', kind = 'scatter')"
      ],
      "execution_count": 32,
      "outputs": [
        {
          "output_type": "execute_result",
          "data": {
            "text/plain": [
              "<matplotlib.axes._subplots.AxesSubplot at 0x7f346d22d748>"
            ]
          },
          "metadata": {
            "tags": []
          },
          "execution_count": 32
        },
        {
          "output_type": "display_data",
          "data": {
            "image/png": "[encoded data removed]",
            "text/plain": [
              "<Figure size 432x288 with 1 Axes>"
            ]
          },
          "metadata": {
            "tags": [],
            "needs_background": "light"
          }
        }
      ]
    },
    {
      "cell_type": "code",
      "metadata": {
        "collapsed": true,
        "id": "UCPLyuKPGBlx"
      },
      "source": [
        ""
      ],
      "execution_count": null,
      "outputs": []
    },
    {
      "cell_type": "markdown",
      "metadata": {
        "collapsed": true,
        "id": "RQPHxm8ZGBlx"
      },
      "source": [
        "### How many leading (n=1) roles were available to actors, and how many to actresses, in the 1950s?"
      ]
    },
    {
      "cell_type": "code",
      "metadata": {
        "collapsed": true,
        "colab": {
          "base_uri": "https://localhost:8080/"
        },
        "id": "Mb7SykjyGBly",
        "outputId": "13cbc1d4-57d3-4e93-99a8-3736fd3e9e91"
      },
      "source": [
        "cast[(cast.n == 1) & (cast.year//10 == 195)].type.value_counts()"
      ],
      "execution_count": 33,
      "outputs": [
        {
          "output_type": "execute_result",
          "data": {
            "text/plain": [
              "actor      6356\n",
              "actress    2797\n",
              "Name: type, dtype: int64"
            ]
          },
          "metadata": {
            "tags": []
          },
          "execution_count": 33
        }
      ]
    },
    {
      "cell_type": "code",
      "metadata": {
        "collapsed": true,
        "id": "jM8X8h6uGBlz"
      },
      "source": [
        ""
      ],
      "execution_count": null,
      "outputs": []
    },
    {
      "cell_type": "markdown",
      "metadata": {
        "collapsed": true,
        "id": "wynCnlOAGBlz"
      },
      "source": [
        "### How many supporting (n=2) roles were available to actors, and how many to actresses, in the 1950s?"
      ]
    },
    {
      "cell_type": "code",
      "metadata": {
        "collapsed": true,
        "colab": {
          "base_uri": "https://localhost:8080/"
        },
        "id": "CM7vPzUhGBl2",
        "outputId": "7820b86f-de57-40f1-82c4-0cf41cf3a675"
      },
      "source": [
        "cast[(cast.n == 2) & (cast.year//10 == 195)].type.value_counts()"
      ],
      "execution_count": 34,
      "outputs": [
        {
          "output_type": "execute_result",
          "data": {
            "text/plain": [
              "actress    4379\n",
              "actor      4364\n",
              "Name: type, dtype: int64"
            ]
          },
          "metadata": {
            "tags": []
          },
          "execution_count": 34
        }
      ]
    },
    {
      "cell_type": "code",
      "metadata": {
        "collapsed": true,
        "id": "zkoU2thhGBl3"
      },
      "source": [
        ""
      ],
      "execution_count": null,
      "outputs": []
    }
  ]
}