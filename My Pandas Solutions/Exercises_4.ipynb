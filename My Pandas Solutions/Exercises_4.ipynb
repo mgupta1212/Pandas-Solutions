{
  "nbformat": 4,
  "nbformat_minor": 0,
  "metadata": {
    "kernelspec": {
      "display_name": "Python 3",
      "name": "python3",
      "language": "python"
    },
    "language_info": {
      "mimetype": "text/x-python",
      "nbconvert_exporter": "python",
      "name": "python",
      "file_extension": ".py",
      "version": "3.4.3",
      "pygments_lexer": "ipython3",
      "codemirror_mode": {
        "version": 3,
        "name": "ipython"
      }
    },
    "colab": {
      "name": "Exercises-4.ipynb",
      "provenance": []
    }
  },
  "cells": [
    {
      "cell_type": "code",
      "metadata": {
        "id": "pVf_-CcRV2kF"
      },
      "source": [
        "%matplotlib inline\n",
        "import pandas as pd"
      ],
      "execution_count": 1,
      "outputs": []
    },
    {
      "cell_type": "code",
      "metadata": {
        "id": "GfrJUdDUV2lD",
        "outputId": "1d521c4d-6b20-4d44-d6dc-b0f59f544d0f"
      },
      "source": [
        "# from IPython.core.display import HTML\n",
        "# css = open('style-table.css').read() + open('style-notebook.css').read()\n",
        "# HTML('<style>{}</style>'.format(css))"
      ],
      "execution_count": null,
      "outputs": [
        {
          "output_type": "execute_result",
          "data": {
            "text/plain": [
              "<IPython.core.display.HTML object>"
            ],
            "text/html": [
              "<style>body {\n",
              "    margin: 0;\n",
              "    font-family: Helvetica;\n",
              "}\n",
              "table.dataframe {\n",
              "    border-collapse: collapse;\n",
              "    border: none;\n",
              "}\n",
              "table.dataframe tr {\n",
              "    border: none;\n",
              "}\n",
              "table.dataframe td, table.dataframe th {\n",
              "    margin: 0;\n",
              "    border: 1px solid white;\n",
              "    padding-left: 0.25em;\n",
              "    padding-right: 0.25em;\n",
              "}\n",
              "table.dataframe th:not(:empty) {\n",
              "    background-color: #fec;\n",
              "    text-align: left;\n",
              "    font-weight: normal;\n",
              "}\n",
              "table.dataframe tr:nth-child(2) th:empty {\n",
              "    border-left: none;\n",
              "    border-right: 1px dashed #888;\n",
              "}\n",
              "table.dataframe td {\n",
              "    border: 2px solid #ccf;\n",
              "    background-color: #f4f4ff;\n",
              "}\n",
              "h3 {\n",
              "    color: white;\n",
              "    background-color: black;\n",
              "    padding: 0.5em;\n",
              "}\n",
              "</style>"
            ]
          },
          "metadata": {
            "tags": []
          },
          "execution_count": 2
        }
      ]
    },
    {
      "cell_type": "code",
      "metadata": {
        "colab": {
          "base_uri": "https://localhost:8080/",
          "height": 204
        },
        "id": "SB43VoZhV2lO",
        "outputId": "1e2affee-f4b4-4290-fc5f-ec9f389ffbf3"
      },
      "source": [
        "titles = pd.read_csv('data/titles.csv')\n",
        "titles.head()"
      ],
      "execution_count": 3,
      "outputs": [
        {
          "output_type": "execute_result",
          "data": {
            "text/html": [
              "<div>\n",
              "<style scoped>\n",
              "    .dataframe tbody tr th:only-of-type {\n",
              "        vertical-align: middle;\n",
              "    }\n",
              "\n",
              "    .dataframe tbody tr th {\n",
              "        vertical-align: top;\n",
              "    }\n",
              "\n",
              "    .dataframe thead th {\n",
              "        text-align: right;\n",
              "    }\n",
              "</style>\n",
              "<table border=\"1\" class=\"dataframe\">\n",
              "  <thead>\n",
              "    <tr style=\"text-align: right;\">\n",
              "      <th></th>\n",
              "      <th>title</th>\n",
              "      <th>year</th>\n",
              "    </tr>\n",
              "  </thead>\n",
              "  <tbody>\n",
              "    <tr>\n",
              "      <th>0</th>\n",
              "      <td>The Rising Son</td>\n",
              "      <td>1990</td>\n",
              "    </tr>\n",
              "    <tr>\n",
              "      <th>1</th>\n",
              "      <td>Justin Bieber: Always Believing</td>\n",
              "      <td>2012</td>\n",
              "    </tr>\n",
              "    <tr>\n",
              "      <th>2</th>\n",
              "      <td>The Thousand Plane Raid</td>\n",
              "      <td>1969</td>\n",
              "    </tr>\n",
              "    <tr>\n",
              "      <th>3</th>\n",
              "      <td>Crucea de piatra</td>\n",
              "      <td>1993</td>\n",
              "    </tr>\n",
              "    <tr>\n",
              "      <th>4</th>\n",
              "      <td>The 86</td>\n",
              "      <td>2015</td>\n",
              "    </tr>\n",
              "  </tbody>\n",
              "</table>\n",
              "</div>"
            ],
            "text/plain": [
              "                             title  year\n",
              "0                   The Rising Son  1990\n",
              "1  Justin Bieber: Always Believing  2012\n",
              "2          The Thousand Plane Raid  1969\n",
              "3                 Crucea de piatra  1993\n",
              "4                           The 86  2015"
            ]
          },
          "metadata": {
            "tags": []
          },
          "execution_count": 3
        }
      ]
    },
    {
      "cell_type": "code",
      "metadata": {
        "colab": {
          "base_uri": "https://localhost:8080/",
          "height": 204
        },
        "id": "U81IkWhhV2lR",
        "outputId": "9a793e5b-6ef7-4008-b098-5308b9fd329d"
      },
      "source": [
        "cast = pd.read_csv('data/cast.csv')\n",
        "cast.head()"
      ],
      "execution_count": 4,
      "outputs": [
        {
          "output_type": "execute_result",
          "data": {
            "text/html": [
              "<div>\n",
              "<style scoped>\n",
              "    .dataframe tbody tr th:only-of-type {\n",
              "        vertical-align: middle;\n",
              "    }\n",
              "\n",
              "    .dataframe tbody tr th {\n",
              "        vertical-align: top;\n",
              "    }\n",
              "\n",
              "    .dataframe thead th {\n",
              "        text-align: right;\n",
              "    }\n",
              "</style>\n",
              "<table border=\"1\" class=\"dataframe\">\n",
              "  <thead>\n",
              "    <tr style=\"text-align: right;\">\n",
              "      <th></th>\n",
              "      <th>title</th>\n",
              "      <th>year</th>\n",
              "      <th>name</th>\n",
              "      <th>type</th>\n",
              "      <th>character</th>\n",
              "      <th>n</th>\n",
              "    </tr>\n",
              "  </thead>\n",
              "  <tbody>\n",
              "    <tr>\n",
              "      <th>0</th>\n",
              "      <td>Suuri illusioni</td>\n",
              "      <td>1985</td>\n",
              "      <td>Homo $</td>\n",
              "      <td>actor</td>\n",
              "      <td>Guests</td>\n",
              "      <td>22.0</td>\n",
              "    </tr>\n",
              "    <tr>\n",
              "      <th>1</th>\n",
              "      <td>Gangsta Rap: The Glockumentary</td>\n",
              "      <td>2007</td>\n",
              "      <td>Too $hort</td>\n",
              "      <td>actor</td>\n",
              "      <td>Himself</td>\n",
              "      <td>NaN</td>\n",
              "    </tr>\n",
              "    <tr>\n",
              "      <th>2</th>\n",
              "      <td>Menace II Society</td>\n",
              "      <td>1993</td>\n",
              "      <td>Too $hort</td>\n",
              "      <td>actor</td>\n",
              "      <td>Lew-Loc</td>\n",
              "      <td>27.0</td>\n",
              "    </tr>\n",
              "    <tr>\n",
              "      <th>3</th>\n",
              "      <td>Porndogs: The Adventures of Sadie</td>\n",
              "      <td>2009</td>\n",
              "      <td>Too $hort</td>\n",
              "      <td>actor</td>\n",
              "      <td>Bosco</td>\n",
              "      <td>3.0</td>\n",
              "    </tr>\n",
              "    <tr>\n",
              "      <th>4</th>\n",
              "      <td>Stop Pepper Palmer</td>\n",
              "      <td>2014</td>\n",
              "      <td>Too $hort</td>\n",
              "      <td>actor</td>\n",
              "      <td>Himself</td>\n",
              "      <td>NaN</td>\n",
              "    </tr>\n",
              "  </tbody>\n",
              "</table>\n",
              "</div>"
            ],
            "text/plain": [
              "                               title  year       name   type character     n\n",
              "0                    Suuri illusioni  1985     Homo $  actor    Guests  22.0\n",
              "1     Gangsta Rap: The Glockumentary  2007  Too $hort  actor   Himself   NaN\n",
              "2                  Menace II Society  1993  Too $hort  actor   Lew-Loc  27.0\n",
              "3  Porndogs: The Adventures of Sadie  2009  Too $hort  actor     Bosco   3.0\n",
              "4                 Stop Pepper Palmer  2014  Too $hort  actor   Himself   NaN"
            ]
          },
          "metadata": {
            "tags": []
          },
          "execution_count": 4
        }
      ]
    },
    {
      "cell_type": "code",
      "metadata": {
        "id": "AfGe4UV3V2lT"
      },
      "source": [
        ""
      ],
      "execution_count": null,
      "outputs": []
    },
    {
      "cell_type": "markdown",
      "metadata": {
        "collapsed": true,
        "id": "tuP0FmyPV2lV"
      },
      "source": [
        "### Define a year as a \"Superman year\" whose films feature more Superman characters than Batman. How many years in film history have been Superman years?"
      ]
    },
    {
      "cell_type": "code",
      "metadata": {
        "collapsed": true,
        "colab": {
          "base_uri": "https://localhost:8080/"
        },
        "id": "rijmTjcdV2lX",
        "outputId": "b5291a57-9a5d-4dfa-df41-00211f8c965f"
      },
      "source": [
        "c = cast\r\n",
        "c = c[(c.character == 'Superman') | (c.character == 'Batman')]\r\n",
        "c = c.groupby(['year','character']).size()\r\n",
        "c = c.unstack(level = 1)\r\n",
        "c = c.fillna(0)\r\n",
        "\r\n",
        "newdf = c.Superman - c.Batman\r\n",
        "print(\"Number of Superman Years:\")\r\n",
        "print(len(newdf[newdf > 0]))"
      ],
      "execution_count": 7,
      "outputs": [
        {
          "output_type": "stream",
          "text": [
            "Number of Superman Years:\n",
            "12\n"
          ],
          "name": "stdout"
        }
      ]
    },
    {
      "cell_type": "code",
      "metadata": {
        "collapsed": true,
        "id": "EscYCMKRV2le"
      },
      "source": [
        ""
      ],
      "execution_count": null,
      "outputs": []
    },
    {
      "cell_type": "markdown",
      "metadata": {
        "collapsed": true,
        "id": "r-IYfFxHV2lg"
      },
      "source": [
        "### How many years have been \"Batman years\", with more Batman characters than Superman characters?"
      ]
    },
    {
      "cell_type": "code",
      "metadata": {
        "collapsed": true,
        "colab": {
          "base_uri": "https://localhost:8080/"
        },
        "id": "VRgItezdV2li",
        "outputId": "45785569-1928-436b-d5a7-1da9102ffb56"
      },
      "source": [
        "print(\"Number of Batman Years:\")\r\n",
        "print(len(newdf[newdf < 0]))"
      ],
      "execution_count": 8,
      "outputs": [
        {
          "output_type": "stream",
          "text": [
            "Number of Batman Years:\n",
            "24\n"
          ],
          "name": "stdout"
        }
      ]
    },
    {
      "cell_type": "code",
      "metadata": {
        "collapsed": true,
        "id": "JFevwvhtV2lk"
      },
      "source": [
        ""
      ],
      "execution_count": null,
      "outputs": []
    },
    {
      "cell_type": "markdown",
      "metadata": {
        "collapsed": true,
        "id": "TSXGMh4eV2ll"
      },
      "source": [
        "### Plot the number of actor roles each year and the number of actress roles each year over the history of film."
      ]
    },
    {
      "cell_type": "code",
      "metadata": {
        "collapsed": true,
        "colab": {
          "base_uri": "https://localhost:8080/",
          "height": 312
        },
        "id": "ay4q4F9iV2lm",
        "outputId": "704e3e1c-f920-44ee-8aea-ec0bed7af0f7"
      },
      "source": [
        "c = cast\r\n",
        "c = c.groupby(['year', 'type']).size()\r\n",
        "c= c.unstack('type')\r\n",
        "c.plot(kind = 'bar')"
      ],
      "execution_count": 16,
      "outputs": [
        {
          "output_type": "execute_result",
          "data": {
            "text/plain": [
              "<matplotlib.axes._subplots.AxesSubplot at 0x7f01cd63a438>"
            ]
          },
          "metadata": {
            "tags": []
          },
          "execution_count": 16
        },
        {
          "output_type": "display_data",
          "data": {
            "image/png": "[encoded data removed]",
            "text/plain": [
              "<Figure size 432x288 with 1 Axes>"
            ]
          },
          "metadata": {
            "tags": [],
            "needs_background": "light"
          }
        }
      ]
    },
    {
      "cell_type": "code",
      "metadata": {
        "collapsed": true,
        "id": "ZZ5dDiRoV2ln"
      },
      "source": [
        ""
      ],
      "execution_count": null,
      "outputs": []
    },
    {
      "cell_type": "markdown",
      "metadata": {
        "collapsed": true,
        "id": "NTMKTlokV2lo"
      },
      "source": [
        "### Plot the number of actor roles each year and the number of actress roles each year, but this time as a kind='area' plot."
      ]
    },
    {
      "cell_type": "code",
      "metadata": {
        "collapsed": true,
        "colab": {
          "base_uri": "https://localhost:8080/",
          "height": 296
        },
        "id": "9CuUUnTbV2lp",
        "outputId": "5e0c5b0f-f862-40fb-d940-784a7ad71410"
      },
      "source": [
        "c.plot(kind = 'area')"
      ],
      "execution_count": 17,
      "outputs": [
        {
          "output_type": "execute_result",
          "data": {
            "text/plain": [
              "<matplotlib.axes._subplots.AxesSubplot at 0x7f01cd319c18>"
            ]
          },
          "metadata": {
            "tags": []
          },
          "execution_count": 17
        },
        {
          "output_type": "display_data",
          "data": {
            "image/png": "[encoded data removed]",
            "text/plain": [
              "<Figure size 432x288 with 1 Axes>"
            ]
          },
          "metadata": {
            "tags": [],
            "needs_background": "light"
          }
        }
      ]
    },
    {
      "cell_type": "code",
      "metadata": {
        "collapsed": true,
        "id": "0B4dnD5_V2lp"
      },
      "source": [
        ""
      ],
      "execution_count": null,
      "outputs": []
    },
    {
      "cell_type": "markdown",
      "metadata": {
        "collapsed": true,
        "id": "nE1S1r9rV2lv"
      },
      "source": [
        "### Plot the difference between the number of actor roles each year and the number of actress roles each year over the history of film."
      ]
    },
    {
      "cell_type": "code",
      "metadata": {
        "collapsed": true,
        "colab": {
          "base_uri": "https://localhost:8080/",
          "height": 296
        },
        "id": "JDoFUwzAV2lw",
        "outputId": "1a6168c0-8ee9-4044-a83b-67cc79eaaf22"
      },
      "source": [
        "newdf = c.actor - c.actress\r\n",
        "newdf.plot()"
      ],
      "execution_count": 19,
      "outputs": [
        {
          "output_type": "execute_result",
          "data": {
            "text/plain": [
              "<matplotlib.axes._subplots.AxesSubplot at 0x7f01cceed0b8>"
            ]
          },
          "metadata": {
            "tags": []
          },
          "execution_count": 19
        },
        {
          "output_type": "display_data",
          "data": {
            "image/png": "[encoded data removed]",
            "text/plain": [
              "<Figure size 432x288 with 1 Axes>"
            ]
          },
          "metadata": {
            "tags": [],
            "needs_background": "light"
          }
        }
      ]
    },
    {
      "cell_type": "code",
      "metadata": {
        "collapsed": true,
        "id": "NV2HTfsvV2lx"
      },
      "source": [
        ""
      ],
      "execution_count": null,
      "outputs": []
    },
    {
      "cell_type": "markdown",
      "metadata": {
        "collapsed": true,
        "id": "I9FlfmSBV2ly"
      },
      "source": [
        "### Plot the fraction of roles that have been 'actor' roles each year in the history of film."
      ]
    },
    {
      "cell_type": "code",
      "metadata": {
        "collapsed": true,
        "colab": {
          "base_uri": "https://localhost:8080/",
          "height": 296
        },
        "id": "mf1BQLOHV2lz",
        "outputId": "e7961eae-854a-4b2d-d2c0-9d0807dd337d"
      },
      "source": [
        "(c.actor / (c.actor + c.actress)).plot()"
      ],
      "execution_count": 20,
      "outputs": [
        {
          "output_type": "execute_result",
          "data": {
            "text/plain": [
              "<matplotlib.axes._subplots.AxesSubplot at 0x7f01ccec7ef0>"
            ]
          },
          "metadata": {
            "tags": []
          },
          "execution_count": 20
        },
        {
          "output_type": "display_data",
          "data": {
            "image/png": "[encoded data removed]",
            "text/plain": [
              "<Figure size 432x288 with 1 Axes>"
            ]
          },
          "metadata": {
            "tags": [],
            "needs_background": "light"
          }
        }
      ]
    },
    {
      "cell_type": "code",
      "metadata": {
        "collapsed": true,
        "id": "58vgocUJV2l0"
      },
      "source": [
        ""
      ],
      "execution_count": null,
      "outputs": []
    },
    {
      "cell_type": "markdown",
      "metadata": {
        "collapsed": true,
        "id": "uI-g6yh8V2l1"
      },
      "source": [
        "### Plot the fraction of supporting (n=2) roles that have been 'actor' roles each year in the history of film."
      ]
    },
    {
      "cell_type": "code",
      "metadata": {
        "collapsed": true,
        "colab": {
          "base_uri": "https://localhost:8080/",
          "height": 296
        },
        "id": "SQnDwKFHV2l1",
        "outputId": "224f5e20-916b-403b-c1c2-54cd38174f51"
      },
      "source": [
        "c = cast[cast.n == 2]\r\n",
        "c= c.groupby(['year','type']).size()\r\n",
        "c = c.unstack(level = 1)\r\n",
        "(c.actor / (c.actor + c.actress)).plot()"
      ],
      "execution_count": 22,
      "outputs": [
        {
          "output_type": "execute_result",
          "data": {
            "text/plain": [
              "<matplotlib.axes._subplots.AxesSubplot at 0x7f01cd8e50f0>"
            ]
          },
          "metadata": {
            "tags": []
          },
          "execution_count": 22
        },
        {
          "output_type": "display_data",
          "data": {
            "image/png": "[encoded data removed]",
            "text/plain": [
              "<Figure size 432x288 with 1 Axes>"
            ]
          },
          "metadata": {
            "tags": [],
            "needs_background": "light"
          }
        }
      ]
    },
    {
      "cell_type": "code",
      "metadata": {
        "collapsed": true,
        "id": "BrrIN7nNV2l2"
      },
      "source": [
        ""
      ],
      "execution_count": null,
      "outputs": []
    },
    {
      "cell_type": "markdown",
      "metadata": {
        "collapsed": true,
        "id": "hWtfxii4V2l4"
      },
      "source": [
        "### Build a plot with a line for each rank n=1 through n=3, where the line shows what fraction of that rank's roles were 'actor' roles for each year in the history of film."
      ]
    },
    {
      "cell_type": "code",
      "metadata": {
        "collapsed": true,
        "colab": {
          "base_uri": "https://localhost:8080/",
          "height": 296
        },
        "id": "j5-ohPZ0V2l7",
        "outputId": "c2d11b59-fb60-45a6-8b02-d77bb804395b"
      },
      "source": [
        "c = cast[cast.n <= 3]\r\n",
        "c = c.groupby(['year','type','n']).size()\r\n",
        "c = c.unstack(level = 1)\r\n",
        "newdf = (c.actor / (c.actor + c.actress) )\r\n",
        "newdf = newdf.unstack('n')\r\n",
        "newdf.plot()"
      ],
      "execution_count": 23,
      "outputs": [
        {
          "output_type": "execute_result",
          "data": {
            "text/plain": [
              "<matplotlib.axes._subplots.AxesSubplot at 0x7f01ccf30588>"
            ]
          },
          "metadata": {
            "tags": []
          },
          "execution_count": 23
        },
        {
          "output_type": "display_data",
          "data": {
            "image/png": "[encoded data removed]",
            "text/plain": [
              "<Figure size 432x288 with 1 Axes>"
            ]
          },
          "metadata": {
            "tags": [],
            "needs_background": "light"
          }
        }
      ]
    },
    {
      "cell_type": "code",
      "metadata": {
        "collapsed": true,
        "id": "EdLcBvauV2l-"
      },
      "source": [
        ""
      ],
      "execution_count": null,
      "outputs": []
    }
  ]
}